{
 "cells": [
  {
   "cell_type": "code",
   "execution_count": 2,
   "metadata": {},
   "outputs": [],
   "source": [
    "import pandas as pd"
   ]
  },
  {
   "cell_type": "code",
   "execution_count": 3,
   "metadata": {},
   "outputs": [],
   "source": [
    "movies = pd.read_csv(\"IMDb movies.csv\", index_col=\"imdb_title_id\")"
   ]
  },
  {
   "cell_type": "code",
   "execution_count": 4,
   "metadata": {},
   "outputs": [
    {
     "data": {
      "text/plain": [
       "(81273, 21)"
      ]
     },
     "execution_count": 4,
     "metadata": {},
     "output_type": "execute_result"
    }
   ],
   "source": [
    "movies.shape"
   ]
  },
  {
   "cell_type": "code",
   "execution_count": 5,
   "metadata": {},
   "outputs": [
    {
     "name": "stdout",
     "output_type": "stream",
     "text": [
      "<class 'pandas.core.frame.DataFrame'>\n",
      "Index: 81273 entries, tt0000574 to tt9914286\n",
      "Data columns (total 21 columns):\n",
      "title                    81273 non-null object\n",
      "original_title           81273 non-null object\n",
      "year                     81273 non-null int64\n",
      "date_published           81273 non-null object\n",
      "genre                    81273 non-null object\n",
      "duration                 81273 non-null int64\n",
      "country                  81234 non-null object\n",
      "language                 80518 non-null object\n",
      "director                 81200 non-null object\n",
      "writer                   79780 non-null object\n",
      "production_company       76948 non-null object\n",
      "actors                   81207 non-null object\n",
      "description              78843 non-null object\n",
      "avg_vote                 81273 non-null float64\n",
      "votes                    81273 non-null int64\n",
      "budget                   22804 non-null object\n",
      "usa_gross_income         15094 non-null object\n",
      "worlwide_gross_income    29892 non-null object\n",
      "metascore                12722 non-null float64\n",
      "reviews_from_users       74196 non-null float64\n",
      "reviews_from_critics     70286 non-null float64\n",
      "dtypes: float64(4), int64(3), object(14)\n",
      "memory usage: 13.6+ MB\n"
     ]
    }
   ],
   "source": [
    "movies.info()"
   ]
  },
  {
   "cell_type": "markdown",
   "metadata": {},
   "source": [
    "### Dealing with null values\n"
   ]
  },
  {
   "cell_type": "markdown",
   "metadata": {},
   "source": [
    "* Dropping all null columns/rows\n",
    "* Replacing the values with a specific value i.e mean, mode, median (measures of central tendencies)\n",
    "#####  NB: Study on Normalization "
   ]
  },
  {
   "cell_type": "markdown",
   "metadata": {},
   "source": [
    "### Drop all columns with null values. At least one value as null, you drop it. \n",
    "* Determine how much data you have on your column. If your data is at least 60% filled ,avoid dropping your column as this would affect your sample (random or cluster). \n",
    "* Also factor this in deleting rows."
   ]
  },
  {
   "cell_type": "markdown",
   "metadata": {},
   "source": [
    "### Replacing with a MOCT\n",
    "#### Do this when there are few values missing i.e at least 60 % is filled in, then take this approach\n",
    "* Mean/Median - Column should be numeric,continous and falls on the real number line i.e exception to complex numbers.\n",
    "* Mode - Column shoud be either categorical/ordinal/nominal.. i.e String/Text.\n",
    "* Static Value - Replace the column with a static value e.g 'other'\n"
   ]
  },
  {
   "cell_type": "code",
   "execution_count": 6,
   "metadata": {},
   "outputs": [],
   "source": [
    "double_df = movies.append(movies)"
   ]
  },
  {
   "cell_type": "code",
   "execution_count": 7,
   "metadata": {},
   "outputs": [
    {
     "data": {
      "text/plain": [
       "(162546, 21)"
      ]
     },
     "execution_count": 7,
     "metadata": {},
     "output_type": "execute_result"
    }
   ],
   "source": [
    "double_df.shape"
   ]
  },
  {
   "cell_type": "code",
   "execution_count": 8,
   "metadata": {},
   "outputs": [],
   "source": [
    "double_df_one = double_df.drop_duplicates()"
   ]
  },
  {
   "cell_type": "code",
   "execution_count": 9,
   "metadata": {},
   "outputs": [
    {
     "data": {
      "text/plain": [
       "(81273, 21)"
      ]
     },
     "execution_count": 9,
     "metadata": {},
     "output_type": "execute_result"
    }
   ],
   "source": [
    "double_df_one.shape"
   ]
  },
  {
   "cell_type": "code",
   "execution_count": 10,
   "metadata": {},
   "outputs": [
    {
     "data": {
      "text/plain": [
       "(162546, 21)"
      ]
     },
     "execution_count": 10,
     "metadata": {},
     "output_type": "execute_result"
    }
   ],
   "source": [
    "double_df.shape"
   ]
  },
  {
   "cell_type": "code",
   "execution_count": 11,
   "metadata": {},
   "outputs": [],
   "source": [
    "double_df.drop_duplicates(inplace=True, keep=False)"
   ]
  },
  {
   "cell_type": "code",
   "execution_count": 12,
   "metadata": {},
   "outputs": [
    {
     "data": {
      "text/plain": [
       "(0, 21)"
      ]
     },
     "execution_count": 12,
     "metadata": {},
     "output_type": "execute_result"
    }
   ],
   "source": [
    "double_df.shape"
   ]
  },
  {
   "cell_type": "code",
   "execution_count": null,
   "metadata": {},
   "outputs": [],
   "source": []
  },
  {
   "cell_type": "code",
   "execution_count": 13,
   "metadata": {},
   "outputs": [
    {
     "data": {
      "text/plain": [
       "(81273, 21)"
      ]
     },
     "execution_count": 13,
     "metadata": {},
     "output_type": "execute_result"
    }
   ],
   "source": [
    "movies.shape"
   ]
  },
  {
   "cell_type": "code",
   "execution_count": 14,
   "metadata": {
    "scrolled": false
   },
   "outputs": [
    {
     "data": {
      "text/plain": [
       "(0, 21)"
      ]
     },
     "execution_count": 14,
     "metadata": {},
     "output_type": "execute_result"
    }
   ],
   "source": [
    "double_df.shape"
   ]
  },
  {
   "cell_type": "code",
   "execution_count": 15,
   "metadata": {},
   "outputs": [
    {
     "data": {
      "text/plain": [
       "(81273, 21)"
      ]
     },
     "execution_count": 15,
     "metadata": {},
     "output_type": "execute_result"
    }
   ],
   "source": [
    "movies.shape"
   ]
  },
  {
   "cell_type": "code",
   "execution_count": 16,
   "metadata": {},
   "outputs": [],
   "source": [
    "temp_movies = movies.copy()"
   ]
  },
  {
   "cell_type": "code",
   "execution_count": 17,
   "metadata": {},
   "outputs": [
    {
     "data": {
      "text/plain": [
       "(81273, 21)"
      ]
     },
     "execution_count": 17,
     "metadata": {},
     "output_type": "execute_result"
    }
   ],
   "source": [
    "temp_movies.shape"
   ]
  },
  {
   "cell_type": "code",
   "execution_count": 18,
   "metadata": {},
   "outputs": [],
   "source": [
    "temp_movies.dropna(inplace=True)"
   ]
  },
  {
   "cell_type": "code",
   "execution_count": 19,
   "metadata": {},
   "outputs": [
    {
     "data": {
      "text/plain": [
       "(6456, 21)"
      ]
     },
     "execution_count": 19,
     "metadata": {},
     "output_type": "execute_result"
    }
   ],
   "source": [
    "temp_movies.shape"
   ]
  },
  {
   "cell_type": "code",
   "execution_count": 20,
   "metadata": {},
   "outputs": [
    {
     "data": {
      "text/plain": [
       "(81273, 21)"
      ]
     },
     "execution_count": 20,
     "metadata": {},
     "output_type": "execute_result"
    }
   ],
   "source": [
    "movies.shape"
   ]
  },
  {
   "cell_type": "markdown",
   "metadata": {},
   "source": [
    "### Task:\n",
    "* Create a temporary dataframe using the copy method\n",
    "* Find out how to drop the columns which have less values e.g metascore\n",
    "* Replace all null values in relatively filled in columns with the corresponding measure of central tendency e.g replace country missing values with the mode.\n",
    "\n",
    "#### NB: Make sure all columns with null values are dealt with appropriatle in the temporary dataframe copy you created\n"
   ]
  },
  {
   "cell_type": "code",
   "execution_count": 21,
   "metadata": {},
   "outputs": [],
   "source": [
    "temp_one = movies.copy()"
   ]
  },
  {
   "cell_type": "code",
   "execution_count": 22,
   "metadata": {},
   "outputs": [
    {
     "data": {
      "text/plain": [
       "(81273, 21)"
      ]
     },
     "execution_count": 22,
     "metadata": {},
     "output_type": "execute_result"
    }
   ],
   "source": [
    "temp_one.shape"
   ]
  },
  {
   "cell_type": "code",
   "execution_count": 23,
   "metadata": {
    "scrolled": true
   },
   "outputs": [
    {
     "name": "stdout",
     "output_type": "stream",
     "text": [
      "<class 'pandas.core.frame.DataFrame'>\n",
      "Index: 81273 entries, tt0000574 to tt9914286\n",
      "Data columns (total 21 columns):\n",
      "title                    81273 non-null object\n",
      "original_title           81273 non-null object\n",
      "year                     81273 non-null int64\n",
      "date_published           81273 non-null object\n",
      "genre                    81273 non-null object\n",
      "duration                 81273 non-null int64\n",
      "country                  81234 non-null object\n",
      "language                 80518 non-null object\n",
      "director                 81200 non-null object\n",
      "writer                   79780 non-null object\n",
      "production_company       76948 non-null object\n",
      "actors                   81207 non-null object\n",
      "description              78843 non-null object\n",
      "avg_vote                 81273 non-null float64\n",
      "votes                    81273 non-null int64\n",
      "budget                   22804 non-null object\n",
      "usa_gross_income         15094 non-null object\n",
      "worlwide_gross_income    29892 non-null object\n",
      "metascore                12722 non-null float64\n",
      "reviews_from_users       74196 non-null float64\n",
      "reviews_from_critics     70286 non-null float64\n",
      "dtypes: float64(4), int64(3), object(14)\n",
      "memory usage: 13.6+ MB\n"
     ]
    }
   ],
   "source": [
    "temp_one.info()"
   ]
  },
  {
   "cell_type": "code",
   "execution_count": 24,
   "metadata": {},
   "outputs": [],
   "source": [
    "rvc = temp_one['reviews_from_users']"
   ]
  },
  {
   "cell_type": "code",
   "execution_count": 25,
   "metadata": {},
   "outputs": [],
   "source": [
    "rvc_mean =rvc.mean()"
   ]
  },
  {
   "cell_type": "code",
   "execution_count": 26,
   "metadata": {},
   "outputs": [],
   "source": [
    "rvc.fillna(rvc_mean, inplace=True)"
   ]
  },
  {
   "cell_type": "code",
   "execution_count": 27,
   "metadata": {},
   "outputs": [
    {
     "name": "stdout",
     "output_type": "stream",
     "text": [
      "<class 'pandas.core.frame.DataFrame'>\n",
      "Index: 81273 entries, tt0000574 to tt9914286\n",
      "Data columns (total 21 columns):\n",
      "title                    81273 non-null object\n",
      "original_title           81273 non-null object\n",
      "year                     81273 non-null int64\n",
      "date_published           81273 non-null object\n",
      "genre                    81273 non-null object\n",
      "duration                 81273 non-null int64\n",
      "country                  81234 non-null object\n",
      "language                 80518 non-null object\n",
      "director                 81200 non-null object\n",
      "writer                   79780 non-null object\n",
      "production_company       76948 non-null object\n",
      "actors                   81207 non-null object\n",
      "description              78843 non-null object\n",
      "avg_vote                 81273 non-null float64\n",
      "votes                    81273 non-null int64\n",
      "budget                   22804 non-null object\n",
      "usa_gross_income         15094 non-null object\n",
      "worlwide_gross_income    29892 non-null object\n",
      "metascore                12722 non-null float64\n",
      "reviews_from_users       74196 non-null float64\n",
      "reviews_from_critics     70286 non-null float64\n",
      "dtypes: float64(4), int64(3), object(14)\n",
      "memory usage: 13.6+ MB\n"
     ]
    }
   ],
   "source": [
    "movies.info()"
   ]
  },
  {
   "cell_type": "code",
   "execution_count": 28,
   "metadata": {},
   "outputs": [],
   "source": [
    "movies.to_csv(\"clean_movies.csv\")"
   ]
  },
  {
   "cell_type": "markdown",
   "metadata": {},
   "source": [
    "### Clean up all columns\n",
    "* When you clean up your columns you run dataframe.to_csv(\"clean_movies.csv\")"
   ]
  },
  {
   "cell_type": "markdown",
   "metadata": {},
   "source": [
    "### Hint: use \n",
    "#### series.notna().mean()"
   ]
  },
  {
   "cell_type": "markdown",
   "metadata": {},
   "source": [
    "##### Do this when there are few values missing i.e at least 60 % is filled in, then take this approach\n",
    "* Mean/Median - Column should be numeric,continous and falls on the real number line i.e exception to complex numbers.\n",
    "* Mode - Column shoud be either categorical/ordinal/nominal.. i.e String/Text.\n",
    "* Static Value - Replace the column with a static value e.g 'other'\n"
   ]
  },
  {
   "cell_type": "markdown",
   "metadata": {},
   "source": []
  },
  {
   "cell_type": "code",
   "execution_count": 29,
   "metadata": {},
   "outputs": [
    {
     "data": {
      "text/html": [
       "<div>\n",
       "<style scoped>\n",
       "    .dataframe tbody tr th:only-of-type {\n",
       "        vertical-align: middle;\n",
       "    }\n",
       "\n",
       "    .dataframe tbody tr th {\n",
       "        vertical-align: top;\n",
       "    }\n",
       "\n",
       "    .dataframe thead th {\n",
       "        text-align: right;\n",
       "    }\n",
       "</style>\n",
       "<table border=\"1\" class=\"dataframe\">\n",
       "  <thead>\n",
       "    <tr style=\"text-align: right;\">\n",
       "      <th></th>\n",
       "      <th>title</th>\n",
       "      <th>original_title</th>\n",
       "      <th>year</th>\n",
       "      <th>date_published</th>\n",
       "      <th>genre</th>\n",
       "      <th>duration</th>\n",
       "      <th>country</th>\n",
       "      <th>language</th>\n",
       "      <th>director</th>\n",
       "      <th>writer</th>\n",
       "      <th>...</th>\n",
       "      <th>actors</th>\n",
       "      <th>description</th>\n",
       "      <th>avg_vote</th>\n",
       "      <th>votes</th>\n",
       "      <th>budget</th>\n",
       "      <th>usa_gross_income</th>\n",
       "      <th>worlwide_gross_income</th>\n",
       "      <th>metascore</th>\n",
       "      <th>reviews_from_users</th>\n",
       "      <th>reviews_from_critics</th>\n",
       "    </tr>\n",
       "    <tr>\n",
       "      <th>imdb_title_id</th>\n",
       "      <th></th>\n",
       "      <th></th>\n",
       "      <th></th>\n",
       "      <th></th>\n",
       "      <th></th>\n",
       "      <th></th>\n",
       "      <th></th>\n",
       "      <th></th>\n",
       "      <th></th>\n",
       "      <th></th>\n",
       "      <th></th>\n",
       "      <th></th>\n",
       "      <th></th>\n",
       "      <th></th>\n",
       "      <th></th>\n",
       "      <th></th>\n",
       "      <th></th>\n",
       "      <th></th>\n",
       "      <th></th>\n",
       "      <th></th>\n",
       "      <th></th>\n",
       "    </tr>\n",
       "  </thead>\n",
       "  <tbody>\n",
       "    <tr>\n",
       "      <th>tt0000574</th>\n",
       "      <td>The Story of the Kelly Gang</td>\n",
       "      <td>The Story of the Kelly Gang</td>\n",
       "      <td>1906</td>\n",
       "      <td>1906-12-26</td>\n",
       "      <td>Biography, Crime, Drama</td>\n",
       "      <td>70</td>\n",
       "      <td>Australia</td>\n",
       "      <td>NaN</td>\n",
       "      <td>Charles Tait</td>\n",
       "      <td>Charles Tait</td>\n",
       "      <td>...</td>\n",
       "      <td>Elizabeth Tait, John Tait, Norman Campbell, Be...</td>\n",
       "      <td>True story of notorious Australian outlaw Ned ...</td>\n",
       "      <td>6.1</td>\n",
       "      <td>537</td>\n",
       "      <td>$ 2250</td>\n",
       "      <td>NaN</td>\n",
       "      <td>NaN</td>\n",
       "      <td>NaN</td>\n",
       "      <td>7.0</td>\n",
       "      <td>7.0</td>\n",
       "    </tr>\n",
       "    <tr>\n",
       "      <th>tt0001892</th>\n",
       "      <td>Den sorte drøm</td>\n",
       "      <td>Den sorte drøm</td>\n",
       "      <td>1911</td>\n",
       "      <td>1911-08-19</td>\n",
       "      <td>Drama</td>\n",
       "      <td>53</td>\n",
       "      <td>Germany, Denmark</td>\n",
       "      <td>NaN</td>\n",
       "      <td>Urban Gad</td>\n",
       "      <td>Urban Gad, Gebhard Schätzler-Perasini</td>\n",
       "      <td>...</td>\n",
       "      <td>Asta Nielsen, Valdemar Psilander, Gunnar Helse...</td>\n",
       "      <td>Two men of high rank are both wooing the beaut...</td>\n",
       "      <td>5.9</td>\n",
       "      <td>171</td>\n",
       "      <td>NaN</td>\n",
       "      <td>NaN</td>\n",
       "      <td>NaN</td>\n",
       "      <td>NaN</td>\n",
       "      <td>4.0</td>\n",
       "      <td>2.0</td>\n",
       "    </tr>\n",
       "    <tr>\n",
       "      <th>tt0002101</th>\n",
       "      <td>Cleopatra</td>\n",
       "      <td>Cleopatra</td>\n",
       "      <td>1912</td>\n",
       "      <td>1912-11-13</td>\n",
       "      <td>Drama, History</td>\n",
       "      <td>100</td>\n",
       "      <td>USA</td>\n",
       "      <td>English</td>\n",
       "      <td>Charles L. Gaskill</td>\n",
       "      <td>Victorien Sardou</td>\n",
       "      <td>...</td>\n",
       "      <td>Helen Gardner, Pearl Sindelar, Miss Fielding, ...</td>\n",
       "      <td>The fabled queen of Egypt's affair with Roman ...</td>\n",
       "      <td>5.2</td>\n",
       "      <td>420</td>\n",
       "      <td>$ 45000</td>\n",
       "      <td>NaN</td>\n",
       "      <td>NaN</td>\n",
       "      <td>NaN</td>\n",
       "      <td>24.0</td>\n",
       "      <td>3.0</td>\n",
       "    </tr>\n",
       "    <tr>\n",
       "      <th>tt0002130</th>\n",
       "      <td>L'Inferno</td>\n",
       "      <td>L'Inferno</td>\n",
       "      <td>1911</td>\n",
       "      <td>1911-03-06</td>\n",
       "      <td>Adventure, Drama, Fantasy</td>\n",
       "      <td>68</td>\n",
       "      <td>Italy</td>\n",
       "      <td>Italian</td>\n",
       "      <td>Francesco Bertolini, Adolfo Padovan</td>\n",
       "      <td>Dante Alighieri</td>\n",
       "      <td>...</td>\n",
       "      <td>Salvatore Papa, Arturo Pirovano, Giuseppe de L...</td>\n",
       "      <td>Loosely adapted from Dante's Divine Comedy and...</td>\n",
       "      <td>7.0</td>\n",
       "      <td>2019</td>\n",
       "      <td>NaN</td>\n",
       "      <td>NaN</td>\n",
       "      <td>NaN</td>\n",
       "      <td>NaN</td>\n",
       "      <td>28.0</td>\n",
       "      <td>14.0</td>\n",
       "    </tr>\n",
       "    <tr>\n",
       "      <th>tt0002199</th>\n",
       "      <td>From the Manger to the Cross; or, Jesus of Naz...</td>\n",
       "      <td>From the Manger to the Cross; or, Jesus of Naz...</td>\n",
       "      <td>1912</td>\n",
       "      <td>1913</td>\n",
       "      <td>Biography, Drama</td>\n",
       "      <td>60</td>\n",
       "      <td>USA</td>\n",
       "      <td>English</td>\n",
       "      <td>Sidney Olcott</td>\n",
       "      <td>Gene Gauntier</td>\n",
       "      <td>...</td>\n",
       "      <td>R. Henderson Bland, Percy Dyer, Gene Gauntier,...</td>\n",
       "      <td>An account of the life of Jesus Christ, based ...</td>\n",
       "      <td>5.7</td>\n",
       "      <td>438</td>\n",
       "      <td>NaN</td>\n",
       "      <td>NaN</td>\n",
       "      <td>NaN</td>\n",
       "      <td>NaN</td>\n",
       "      <td>12.0</td>\n",
       "      <td>5.0</td>\n",
       "    </tr>\n",
       "  </tbody>\n",
       "</table>\n",
       "<p>5 rows × 21 columns</p>\n",
       "</div>"
      ],
      "text/plain": [
       "                                                           title  \\\n",
       "imdb_title_id                                                      \n",
       "tt0000574                            The Story of the Kelly Gang   \n",
       "tt0001892                                         Den sorte drøm   \n",
       "tt0002101                                              Cleopatra   \n",
       "tt0002130                                              L'Inferno   \n",
       "tt0002199      From the Manger to the Cross; or, Jesus of Naz...   \n",
       "\n",
       "                                                  original_title  year  \\\n",
       "imdb_title_id                                                            \n",
       "tt0000574                            The Story of the Kelly Gang  1906   \n",
       "tt0001892                                         Den sorte drøm  1911   \n",
       "tt0002101                                              Cleopatra  1912   \n",
       "tt0002130                                              L'Inferno  1911   \n",
       "tt0002199      From the Manger to the Cross; or, Jesus of Naz...  1912   \n",
       "\n",
       "              date_published                      genre  duration  \\\n",
       "imdb_title_id                                                       \n",
       "tt0000574         1906-12-26    Biography, Crime, Drama        70   \n",
       "tt0001892         1911-08-19                      Drama        53   \n",
       "tt0002101         1912-11-13             Drama, History       100   \n",
       "tt0002130         1911-03-06  Adventure, Drama, Fantasy        68   \n",
       "tt0002199               1913           Biography, Drama        60   \n",
       "\n",
       "                        country language                             director  \\\n",
       "imdb_title_id                                                                   \n",
       "tt0000574             Australia      NaN                         Charles Tait   \n",
       "tt0001892      Germany, Denmark      NaN                            Urban Gad   \n",
       "tt0002101                   USA  English                   Charles L. Gaskill   \n",
       "tt0002130                 Italy  Italian  Francesco Bertolini, Adolfo Padovan   \n",
       "tt0002199                   USA  English                        Sidney Olcott   \n",
       "\n",
       "                                              writer          ...           \\\n",
       "imdb_title_id                                                 ...            \n",
       "tt0000574                               Charles Tait          ...            \n",
       "tt0001892      Urban Gad, Gebhard Schätzler-Perasini          ...            \n",
       "tt0002101                           Victorien Sardou          ...            \n",
       "tt0002130                            Dante Alighieri          ...            \n",
       "tt0002199                              Gene Gauntier          ...            \n",
       "\n",
       "                                                          actors  \\\n",
       "imdb_title_id                                                      \n",
       "tt0000574      Elizabeth Tait, John Tait, Norman Campbell, Be...   \n",
       "tt0001892      Asta Nielsen, Valdemar Psilander, Gunnar Helse...   \n",
       "tt0002101      Helen Gardner, Pearl Sindelar, Miss Fielding, ...   \n",
       "tt0002130      Salvatore Papa, Arturo Pirovano, Giuseppe de L...   \n",
       "tt0002199      R. Henderson Bland, Percy Dyer, Gene Gauntier,...   \n",
       "\n",
       "                                                     description avg_vote  \\\n",
       "imdb_title_id                                                               \n",
       "tt0000574      True story of notorious Australian outlaw Ned ...      6.1   \n",
       "tt0001892      Two men of high rank are both wooing the beaut...      5.9   \n",
       "tt0002101      The fabled queen of Egypt's affair with Roman ...      5.2   \n",
       "tt0002130      Loosely adapted from Dante's Divine Comedy and...      7.0   \n",
       "tt0002199      An account of the life of Jesus Christ, based ...      5.7   \n",
       "\n",
       "               votes   budget usa_gross_income worlwide_gross_income  \\\n",
       "imdb_title_id                                                          \n",
       "tt0000574        537   $ 2250              NaN                   NaN   \n",
       "tt0001892        171      NaN              NaN                   NaN   \n",
       "tt0002101        420  $ 45000              NaN                   NaN   \n",
       "tt0002130       2019      NaN              NaN                   NaN   \n",
       "tt0002199        438      NaN              NaN                   NaN   \n",
       "\n",
       "              metascore  reviews_from_users  reviews_from_critics  \n",
       "imdb_title_id                                                      \n",
       "tt0000574           NaN                 7.0                   7.0  \n",
       "tt0001892           NaN                 4.0                   2.0  \n",
       "tt0002101           NaN                24.0                   3.0  \n",
       "tt0002130           NaN                28.0                  14.0  \n",
       "tt0002199           NaN                12.0                   5.0  \n",
       "\n",
       "[5 rows x 21 columns]"
      ]
     },
     "execution_count": 29,
     "metadata": {},
     "output_type": "execute_result"
    }
   ],
   "source": [
    "movies.head()"
   ]
  },
  {
   "cell_type": "code",
   "execution_count": 45,
   "metadata": {},
   "outputs": [],
   "source": [
    "ls = movies.country.unique()"
   ]
  },
  {
   "cell_type": "code",
   "execution_count": 46,
   "metadata": {},
   "outputs": [
    {
     "data": {
      "text/plain": [
       "(4633,)"
      ]
     },
     "execution_count": 46,
     "metadata": {},
     "output_type": "execute_result"
    }
   ],
   "source": [
    "ls.shape"
   ]
  },
  {
   "cell_type": "code",
   "execution_count": null,
   "metadata": {},
   "outputs": [],
   "source": []
  }
 ],
 "metadata": {
  "kernelspec": {
   "display_name": "Python 3",
   "language": "python",
   "name": "python3"
  }
 },
 "nbformat": 4,
 "nbformat_minor": 2
}
