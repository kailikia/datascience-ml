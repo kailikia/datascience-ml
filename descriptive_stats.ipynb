{
 "cells": [
  {
   "cell_type": "code",
   "execution_count": 1,
   "metadata": {},
   "outputs": [],
   "source": [
    "import pandas as pd"
   ]
  },
  {
   "cell_type": "code",
   "execution_count": 2,
   "metadata": {},
   "outputs": [],
   "source": [
    "clean_df = pd.read_csv(\"clean_movies.csv\")"
   ]
  },
  {
   "cell_type": "markdown",
   "metadata": {},
   "source": [
    "#### 1. Frequency statics table\n",
    "* Mean\n",
    "* Standard Deviation"
   ]
  },
  {
   "cell_type": "code",
   "execution_count": 5,
   "metadata": {},
   "outputs": [
    {
     "data": {
      "text/html": [
       "<div>\n",
       "<style scoped>\n",
       "    .dataframe tbody tr th:only-of-type {\n",
       "        vertical-align: middle;\n",
       "    }\n",
       "\n",
       "    .dataframe tbody tr th {\n",
       "        vertical-align: top;\n",
       "    }\n",
       "\n",
       "    .dataframe thead th {\n",
       "        text-align: right;\n",
       "    }\n",
       "</style>\n",
       "<table border=\"1\" class=\"dataframe\">\n",
       "  <thead>\n",
       "    <tr style=\"text-align: right;\">\n",
       "      <th></th>\n",
       "      <th>year</th>\n",
       "      <th>duration</th>\n",
       "      <th>avg_vote</th>\n",
       "      <th>votes</th>\n",
       "      <th>metascore</th>\n",
       "      <th>reviews_from_users</th>\n",
       "      <th>reviews_from_critics</th>\n",
       "    </tr>\n",
       "  </thead>\n",
       "  <tbody>\n",
       "    <tr>\n",
       "      <th>count</th>\n",
       "      <td>81273.000000</td>\n",
       "      <td>81273.000000</td>\n",
       "      <td>81273.000000</td>\n",
       "      <td>8.127300e+04</td>\n",
       "      <td>12722.000000</td>\n",
       "      <td>74196.000000</td>\n",
       "      <td>70286.000000</td>\n",
       "    </tr>\n",
       "    <tr>\n",
       "      <th>mean</th>\n",
       "      <td>1993.007210</td>\n",
       "      <td>100.565981</td>\n",
       "      <td>5.926587</td>\n",
       "      <td>9.421771e+03</td>\n",
       "      <td>55.762695</td>\n",
       "      <td>43.753194</td>\n",
       "      <td>27.992758</td>\n",
       "    </tr>\n",
       "    <tr>\n",
       "      <th>std</th>\n",
       "      <td>23.992284</td>\n",
       "      <td>25.320189</td>\n",
       "      <td>1.243315</td>\n",
       "      <td>5.220245e+04</td>\n",
       "      <td>17.757453</td>\n",
       "      <td>159.903568</td>\n",
       "      <td>58.708764</td>\n",
       "    </tr>\n",
       "    <tr>\n",
       "      <th>min</th>\n",
       "      <td>1906.000000</td>\n",
       "      <td>40.000000</td>\n",
       "      <td>1.000000</td>\n",
       "      <td>9.900000e+01</td>\n",
       "      <td>1.000000</td>\n",
       "      <td>1.000000</td>\n",
       "      <td>1.000000</td>\n",
       "    </tr>\n",
       "    <tr>\n",
       "      <th>25%</th>\n",
       "      <td>1979.000000</td>\n",
       "      <td>88.000000</td>\n",
       "      <td>5.200000</td>\n",
       "      <td>2.060000e+02</td>\n",
       "      <td>43.000000</td>\n",
       "      <td>4.000000</td>\n",
       "      <td>3.000000</td>\n",
       "    </tr>\n",
       "    <tr>\n",
       "      <th>50%</th>\n",
       "      <td>2002.000000</td>\n",
       "      <td>96.000000</td>\n",
       "      <td>6.100000</td>\n",
       "      <td>4.950000e+02</td>\n",
       "      <td>56.000000</td>\n",
       "      <td>9.000000</td>\n",
       "      <td>8.000000</td>\n",
       "    </tr>\n",
       "    <tr>\n",
       "      <th>75%</th>\n",
       "      <td>2012.000000</td>\n",
       "      <td>108.000000</td>\n",
       "      <td>6.800000</td>\n",
       "      <td>1.865000e+03</td>\n",
       "      <td>69.000000</td>\n",
       "      <td>26.000000</td>\n",
       "      <td>24.000000</td>\n",
       "    </tr>\n",
       "    <tr>\n",
       "      <th>max</th>\n",
       "      <td>2019.000000</td>\n",
       "      <td>3360.000000</td>\n",
       "      <td>10.000000</td>\n",
       "      <td>2.159628e+06</td>\n",
       "      <td>100.000000</td>\n",
       "      <td>8302.000000</td>\n",
       "      <td>987.000000</td>\n",
       "    </tr>\n",
       "  </tbody>\n",
       "</table>\n",
       "</div>"
      ],
      "text/plain": [
       "               year      duration      avg_vote         votes     metascore  \\\n",
       "count  81273.000000  81273.000000  81273.000000  8.127300e+04  12722.000000   \n",
       "mean    1993.007210    100.565981      5.926587  9.421771e+03     55.762695   \n",
       "std       23.992284     25.320189      1.243315  5.220245e+04     17.757453   \n",
       "min     1906.000000     40.000000      1.000000  9.900000e+01      1.000000   \n",
       "25%     1979.000000     88.000000      5.200000  2.060000e+02     43.000000   \n",
       "50%     2002.000000     96.000000      6.100000  4.950000e+02     56.000000   \n",
       "75%     2012.000000    108.000000      6.800000  1.865000e+03     69.000000   \n",
       "max     2019.000000   3360.000000     10.000000  2.159628e+06    100.000000   \n",
       "\n",
       "       reviews_from_users  reviews_from_critics  \n",
       "count        74196.000000          70286.000000  \n",
       "mean            43.753194             27.992758  \n",
       "std            159.903568             58.708764  \n",
       "min              1.000000              1.000000  \n",
       "25%              4.000000              3.000000  \n",
       "50%              9.000000              8.000000  \n",
       "75%             26.000000             24.000000  \n",
       "max           8302.000000            987.000000  "
      ]
     },
     "execution_count": 5,
     "metadata": {},
     "output_type": "execute_result"
    }
   ],
   "source": [
    "clean_df.describe()"
   ]
  },
  {
   "cell_type": "code",
   "execution_count": 10,
   "metadata": {},
   "outputs": [],
   "source": [
    "clean_df.drop('metascore', axis=1,inplace=True)"
   ]
  },
  {
   "cell_type": "code",
   "execution_count": 13,
   "metadata": {},
   "outputs": [
    {
     "data": {
      "text/html": [
       "<div>\n",
       "<style scoped>\n",
       "    .dataframe tbody tr th:only-of-type {\n",
       "        vertical-align: middle;\n",
       "    }\n",
       "\n",
       "    .dataframe tbody tr th {\n",
       "        vertical-align: top;\n",
       "    }\n",
       "\n",
       "    .dataframe thead th {\n",
       "        text-align: right;\n",
       "    }\n",
       "</style>\n",
       "<table border=\"1\" class=\"dataframe\">\n",
       "  <thead>\n",
       "    <tr style=\"text-align: right;\">\n",
       "      <th></th>\n",
       "      <th>year</th>\n",
       "      <th>duration</th>\n",
       "      <th>avg_vote</th>\n",
       "      <th>votes</th>\n",
       "      <th>reviews_from_users</th>\n",
       "      <th>reviews_from_critics</th>\n",
       "    </tr>\n",
       "  </thead>\n",
       "  <tbody>\n",
       "    <tr>\n",
       "      <th>year</th>\n",
       "      <td>1.000000</td>\n",
       "      <td>0.150164</td>\n",
       "      <td>-0.213843</td>\n",
       "      <td>0.061409</td>\n",
       "      <td>0.068079</td>\n",
       "      <td>0.145183</td>\n",
       "    </tr>\n",
       "    <tr>\n",
       "      <th>duration</th>\n",
       "      <td>0.150164</td>\n",
       "      <td>1.000000</td>\n",
       "      <td>0.221752</td>\n",
       "      <td>0.111327</td>\n",
       "      <td>0.117187</td>\n",
       "      <td>0.132651</td>\n",
       "    </tr>\n",
       "    <tr>\n",
       "      <th>avg_vote</th>\n",
       "      <td>-0.213843</td>\n",
       "      <td>0.221752</td>\n",
       "      <td>1.000000</td>\n",
       "      <td>0.164838</td>\n",
       "      <td>0.142879</td>\n",
       "      <td>0.198265</td>\n",
       "    </tr>\n",
       "    <tr>\n",
       "      <th>votes</th>\n",
       "      <td>0.061409</td>\n",
       "      <td>0.111327</td>\n",
       "      <td>0.164838</td>\n",
       "      <td>1.000000</td>\n",
       "      <td>0.792243</td>\n",
       "      <td>0.674826</td>\n",
       "    </tr>\n",
       "    <tr>\n",
       "      <th>reviews_from_users</th>\n",
       "      <td>0.068079</td>\n",
       "      <td>0.117187</td>\n",
       "      <td>0.142879</td>\n",
       "      <td>0.792243</td>\n",
       "      <td>1.000000</td>\n",
       "      <td>0.697933</td>\n",
       "    </tr>\n",
       "    <tr>\n",
       "      <th>reviews_from_critics</th>\n",
       "      <td>0.145183</td>\n",
       "      <td>0.132651</td>\n",
       "      <td>0.198265</td>\n",
       "      <td>0.674826</td>\n",
       "      <td>0.697933</td>\n",
       "      <td>1.000000</td>\n",
       "    </tr>\n",
       "  </tbody>\n",
       "</table>\n",
       "</div>"
      ],
      "text/plain": [
       "                          year  duration  avg_vote     votes  \\\n",
       "year                  1.000000  0.150164 -0.213843  0.061409   \n",
       "duration              0.150164  1.000000  0.221752  0.111327   \n",
       "avg_vote             -0.213843  0.221752  1.000000  0.164838   \n",
       "votes                 0.061409  0.111327  0.164838  1.000000   \n",
       "reviews_from_users    0.068079  0.117187  0.142879  0.792243   \n",
       "reviews_from_critics  0.145183  0.132651  0.198265  0.674826   \n",
       "\n",
       "                      reviews_from_users  reviews_from_critics  \n",
       "year                            0.068079              0.145183  \n",
       "duration                        0.117187              0.132651  \n",
       "avg_vote                        0.142879              0.198265  \n",
       "votes                           0.792243              0.674826  \n",
       "reviews_from_users              1.000000              0.697933  \n",
       "reviews_from_critics            0.697933              1.000000  "
      ]
     },
     "execution_count": 13,
     "metadata": {},
     "output_type": "execute_result"
    }
   ],
   "source": [
    "clean_df.corr()"
   ]
  },
  {
   "cell_type": "code",
   "execution_count": 11,
   "metadata": {
    "scrolled": true
   },
   "outputs": [
    {
     "data": {
      "text/plain": [
       "Index(['imdb_title_id', 'title', 'original_title', 'year', 'date_published',\n",
       "       'genre', 'duration', 'country', 'language', 'director', 'writer',\n",
       "       'production_company', 'actors', 'description', 'avg_vote', 'votes',\n",
       "       'budget', 'usa_gross_income', 'worlwide_gross_income',\n",
       "       'reviews_from_users', 'reviews_from_critics'],\n",
       "      dtype='object')"
      ]
     },
     "execution_count": 11,
     "metadata": {},
     "output_type": "execute_result"
    }
   ],
   "source": [
    "clean_df.columns"
   ]
  },
  {
   "cell_type": "markdown",
   "metadata": {},
   "source": [
    "## TASK\n",
    "### Since most continous variables have poor correlation, let us convert one nominal/ordinal variable to a continous categorical variable (Recoding to new variable).\n",
    "##### i.e Convert the country and the genre to numerical categories e.g comedy to 1, thriller to 2... or USA - 1, Denmark to 3....\n",
    "\n",
    "### Then run the corr method again"
   ]
  },
  {
   "cell_type": "code",
   "execution_count": null,
   "metadata": {},
   "outputs": [],
   "source": []
  }
 ],
 "metadata": {
  "kernelspec": {
   "display_name": "Python 3",
   "language": "python",
   "name": "python3"
  },
  "language_info": {
   "codemirror_mode": {
    "name": "ipython",
    "version": 3
   },
   "file_extension": ".py",
   "mimetype": "text/x-python",
   "name": "python",
   "nbconvert_exporter": "python",
   "pygments_lexer": "ipython3",
   "version": "3.7.0"
  }
 },
 "nbformat": 4,
 "nbformat_minor": 2
}
